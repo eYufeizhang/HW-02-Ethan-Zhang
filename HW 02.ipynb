{
 "cells": [
  {
   "cell_type": "code",
   "execution_count": 1,
   "id": "5c9cca25",
   "metadata": {},
   "outputs": [
    {
     "name": "stdout",
     "output_type": "stream",
     "text": [
      "Win percentage if you switch: 66.74%\n",
      "Win percentage if you don't switch: 33.83%\n"
     ]
    }
   ],
   "source": [
    "import random\n",
    "\n",
    "def simulate_monty_hall(switch: bool, trials: int) -> float:\n",
    "    wins = 0\n",
    "\n",
    "    for _ in range(trials):\n",
    "        # Randomly place the car behind one of the three doors\n",
    "        doors = [0, 0, 0]\n",
    "        car_position = random.randint(0, 2)\n",
    "        doors[car_position] = 1  # 1 means the car is behind the door, 0 means goat\n",
    "\n",
    "        # The contestant randomly picks one of the doors\n",
    "        contestant_choice = random.randint(0, 2)\n",
    "\n",
    "        # Monty opens a door that the contestant didn't pick and that has a goat behind it\n",
    "        possible_doors = [i for i in range(3) if i != contestant_choice and doors[i] == 0]\n",
    "        monty_opens = random.choice(possible_doors)\n",
    "\n",
    "        # If the contestant switches, they switch to the remaining unopened door\n",
    "        if switch:\n",
    "            contestant_choice = [i for i in range(3) if i != contestant_choice and i != monty_opens][0]\n",
    "\n",
    "        # Check if the contestant's final choice is the car\n",
    "        if doors[contestant_choice] == 1:\n",
    "            wins += 1\n",
    "\n",
    "    # Return the win percentage\n",
    "    return wins / trials * 100\n",
    "\n",
    "# Example: Simulate 10,000 trials with and without switching\n",
    "trials = 10000\n",
    "print(f\"Win percentage if you switch: {simulate_monty_hall(True, trials)}%\")\n",
    "print(f\"Win percentage if you don't switch: {simulate_monty_hall(False, trials)}%\")\n"
   ]
  },
  {
   "cell_type": "code",
   "execution_count": 2,
   "id": "41020fdb",
   "metadata": {},
   "outputs": [
    {
     "name": "stdout",
     "output_type": "stream",
     "text": [
      "Win percentage if you switch: 11.959999999999999%\n",
      "Win percentage if you don't switch: 32.910000000000004%\n"
     ]
    }
   ],
   "source": [
    "import random\n",
    "\n",
    "def monty_hall_simulation(switch: bool, trials: int) -> float:\n",
    "    wins = 0\n",
    "\n",
    "    for _ in range(trials):\n",
    "        # Randomly choose the door with the car (0, 1, or 2)\n",
    "        car = random.randint(0, 2)\n",
    "        # Contestant randomly picks a door\n",
    "        pick = random.randint(0, 2)\n",
    "\n",
    "        # If switching, change pick to the other remaining door\n",
    "        if switch:\n",
    "            pick = 3 - pick - car  # Formula to switch doors: pick the door that is neither the original pick nor the car\n",
    "\n",
    "        # Count win if the contestant's pick is the car\n",
    "        if pick == car:\n",
    "            wins += 1\n",
    "\n",
    "    # Return win percentage\n",
    "    return (wins / trials) * 100\n",
    "\n",
    "# Example: Simulate 10,000 trials with and without switching\n",
    "trials = 10000\n",
    "print(f\"Win percentage if you switch: {monty_hall_simulation(True, trials)}%\")\n",
    "print(f\"Win percentage if you don't switch: {monty_hall_simulation(False, trials)}%\")\n"
   ]
  },
  {
   "cell_type": "code",
   "execution_count": null,
   "id": "f7207a13",
   "metadata": {},
   "outputs": [],
   "source": [
    "#Simplified Door Switching Logic: Instead of listing doors and eliminating them, the formula 3 - pick - car directly computes the other remaining door if you switch.\n",
    "#Simplified Variables: The code now uses simple, direct variables like car and pick without needing lists or extra steps for Monty's choice.\n",
    "#Reduced Code Size: The structure is more compact while maintaining functionality."
   ]
  },
  {
   "cell_type": "code",
   "execution_count": null,
   "id": "dc336381",
   "metadata": {},
   "outputs": [],
   "source": [
    "#BELOW IS THE POST-LECTURE HOMEWORK"
   ]
  },
  {
   "cell_type": "code",
   "execution_count": null,
   "id": "5bfb92aa",
   "metadata": {},
   "outputs": [],
   "source": [
    "#A more complicated version\n",
    "import random\n",
    "\n",
    "def monty_hall_simulation(switch: bool, trials: int) -> float:\n",
    "    wins = 0\n",
    "\n",
    "    for _ in range(trials):\n",
    "        # Randomly place car and contestant pick\n",
    "        car = random.randint(0, 2)\n",
    "        pick = random.randint(0, 2)\n",
    "\n",
    "        # Simulate switching\n",
    "        if switch:\n",
    "            pick = 3 - pick - (0 if car != pick else random.choice([1, 2]))\n",
    "\n",
    "        # Check if the pick is correct (car)\n",
    "        wins += (pick == car)\n",
    "\n",
    "    return (wins / trials) * 100\n",
    "\n",
    "# Example: Simulate 10,000 trials with and without switching\n",
    "trials = 10000\n",
    "print(f\"Win percentage if you switch: {monty_hall_simulation(True, trials)}%\")\n",
    "print(f\"Win percentage if you don't switch: {monty_hall_simulation(False, trials)}%\")\n"
   ]
  },
  {
   "cell_type": "code",
   "execution_count": null,
   "id": "d176aad8",
   "metadata": {},
   "outputs": [],
   "source": [
    "'''\n",
    "Reflection on Monte Hall problem and Markov Chains:\n",
    "Chatbots help clarify basic concepts of probability problems like the Monty Hall puzzle. \n",
    "ChatGPT breaks down the steps and provides multiple explanations, from simple descriptions to detailed step-by-step code simulations. \n",
    "Also, chatbots can simplify problems by removing unnecessary complexity, as shown in the stripped-down version of the code that ChatGPT provided earlier. \n",
    "This reduced confusion and allowed me to focus on the key points of the code.\n",
    "'''"
   ]
  },
  {
   "cell_type": "code",
   "execution_count": null,
   "id": "e1bd4247",
   "metadata": {},
   "outputs": [],
   "source": [
    "'''\n",
    "Reflection on AI tools: \n",
    "I think AI makes my learning more efficient and time-saving. \n",
    "By using AI tools such as ChatGPT, I can directly use the knowledge compiled by AI, thus saving the time of consulting a lot of books. \n",
    "They also improve my understanding of coding and data science, because AI can generate personalized teaching according to the questions I ask, which greatly improves my efficiency in learning programming.\n",
    "'''"
   ]
  },
  {
   "cell_type": "code",
   "execution_count": null,
   "id": "c7c7a034",
   "metadata": {},
   "outputs": [],
   "source": [
    "#The link to the chatpgt conversation: https://chatgpt.com/c/66ecd193-2774-8001-b56b-d79c3b84f715"
   ]
  }
 ],
 "metadata": {
  "kernelspec": {
   "display_name": "Python 3 (ipykernel)",
   "language": "python",
   "name": "python3"
  },
  "language_info": {
   "codemirror_mode": {
    "name": "ipython",
    "version": 3
   },
   "file_extension": ".py",
   "mimetype": "text/x-python",
   "name": "python",
   "nbconvert_exporter": "python",
   "pygments_lexer": "ipython3",
   "version": "3.11.6"
  }
 },
 "nbformat": 4,
 "nbformat_minor": 5
}
